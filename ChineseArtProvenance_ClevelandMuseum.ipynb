{
  "nbformat": 4,
  "nbformat_minor": 0,
  "metadata": {
    "colab": {
      "provenance": []
    },
    "kernelspec": {
      "name": "python3",
      "display_name": "Python 3"
    },
    "language_info": {
      "name": "python"
    }
  },
  "cells": [
    {
      "cell_type": "markdown",
      "source": [
        "## Get Chinese Art Provenance from Cleveland Museum of Art JSON"
      ],
      "metadata": {
        "id": "CJ4cjUvYe7GO"
      }
    },
    {
      "cell_type": "markdown",
      "source": [
        "### get the json file"
      ],
      "metadata": {
        "id": "JMOJ1Sq_fuSV"
      }
    },
    {
      "cell_type": "code",
      "execution_count": null,
      "metadata": {
        "colab": {
          "base_uri": "https://localhost:8080/"
        },
        "id": "nM3IDIz4e6Hx",
        "outputId": "ed320433-a264-4e82-8245-d4d324faf932"
      },
      "outputs": [
        {
          "output_type": "stream",
          "name": "stdout",
          "text": [
            "--2024-04-27 21:41:29--  https://github.com/ClevelandMuseumArt/openaccess/raw/master/data.json\n",
            "Resolving github.com (github.com)... 140.82.113.4\n",
            "Connecting to github.com (github.com)|140.82.113.4|:443... connected.\n",
            "HTTP request sent, awaiting response... 302 Found\n",
            "Location: https://media.githubusercontent.com/media/ClevelandMuseumArt/openaccess/master/data.json [following]\n",
            "--2024-04-27 21:41:29--  https://media.githubusercontent.com/media/ClevelandMuseumArt/openaccess/master/data.json\n",
            "Resolving media.githubusercontent.com (media.githubusercontent.com)... 185.199.108.133, 185.199.110.133, 185.199.109.133, ...\n",
            "Connecting to media.githubusercontent.com (media.githubusercontent.com)|185.199.108.133|:443... connected.\n",
            "HTTP request sent, awaiting response... 200 OK\n",
            "Length: 289478751 (276M) [application/octet-stream]\n",
            "Saving to: ‘data.json’\n",
            "\n",
            "data.json           100%[===================>] 276.07M  91.0MB/s    in 3.0s    \n",
            "\n",
            "2024-04-27 21:41:36 (91.0 MB/s) - ‘data.json’ saved [289478751/289478751]\n",
            "\n"
          ]
        }
      ],
      "source": [
        "import pandas as pd\n",
        "\n",
        "!wget -O data.json https://github.com/ClevelandMuseumArt/openaccess/raw/master/data.json\n",
        "df = pd.read_json('/content/data.json')"
      ]
    },
    {
      "cell_type": "code",
      "source": [
        "for col in df.columns:\n",
        "  print(col)"
      ],
      "metadata": {
        "colab": {
          "base_uri": "https://localhost:8080/"
        },
        "id": "VWyd8oLufMSf",
        "outputId": "e1f91ac3-3aba-4152-c961-3478013781aa"
      },
      "execution_count": null,
      "outputs": [
        {
          "output_type": "stream",
          "name": "stdout",
          "text": [
            "id\n",
            "accession_number\n",
            "share_license_status\n",
            "tombstone\n",
            "current_location\n",
            "title\n",
            "title_in_original_language\n",
            "series\n",
            "series_in_original_language\n",
            "creation_date\n",
            "creation_date_earliest\n",
            "creation_date_latest\n",
            "artists_tags\n",
            "culture\n",
            "technique\n",
            "support_materials\n",
            "department\n",
            "collection\n",
            "type\n",
            "measurements\n",
            "dimensions\n",
            "state_of_the_work\n",
            "edition_of_the_work\n",
            "copyright\n",
            "inscriptions\n",
            "exhibitions\n",
            "provenance\n",
            "find_spot\n",
            "related_works\n",
            "former_accession_numbers\n",
            "did_you_know\n",
            "description\n",
            "external_resources\n",
            "citations\n",
            "catalogue_raisonne\n",
            "url\n",
            "images\n",
            "alternate_images\n",
            "creditline\n",
            "sketchfab_id\n",
            "sketchfab_url\n",
            "gallery_donor_text\n",
            "creators\n",
            "updated_at\n"
          ]
        }
      ]
    },
    {
      "cell_type": "code",
      "source": [
        "df['department'].unique()"
      ],
      "metadata": {
        "colab": {
          "base_uri": "https://localhost:8080/"
        },
        "id": "0vTo5mIMfNax",
        "outputId": "5eb33f2e-797d-41a4-e84a-36792d9f57a2"
      },
      "execution_count": null,
      "outputs": [
        {
          "output_type": "execute_result",
          "data": {
            "text/plain": [
              "array(['Modern European Painting and Sculpture', 'Drawings',\n",
              "       'Decorative Art and Design', 'Prints', 'Chinese Art',\n",
              "       'Japanese Art', 'African Art', 'Photography',\n",
              "       'European Painting and Sculpture', 'Korean Art',\n",
              "       'Contemporary Art', 'Textiles', 'American Painting and Sculpture',\n",
              "       'Indian and Southeast Asian Art',\n",
              "       'Egyptian and Ancient Near Eastern Art', 'Greek and Roman Art',\n",
              "       'Medieval Art', 'Islamic Art', 'Oceania', 'Art of the Americas'],\n",
              "      dtype=object)"
            ]
          },
          "metadata": {},
          "execution_count": 3
        }
      ]
    },
    {
      "cell_type": "markdown",
      "source": [
        "### subset the Chinese Art"
      ],
      "metadata": {
        "id": "qDOH2K9Mfv4j"
      }
    },
    {
      "cell_type": "code",
      "source": [
        "cleveland_chinese_art_df = df[df['department'] == 'Chinese Art']\n",
        "len(cleveland_chinese_art_df)"
      ],
      "metadata": {
        "colab": {
          "base_uri": "https://localhost:8080/"
        },
        "id": "6Yhv4ZkYfOxi",
        "outputId": "7aa04f2b-1b3c-4065-9dfe-4dfffc16bad4"
      },
      "execution_count": null,
      "outputs": [
        {
          "output_type": "execute_result",
          "data": {
            "text/plain": [
              "2474"
            ]
          },
          "metadata": {},
          "execution_count": 4
        }
      ]
    },
    {
      "cell_type": "markdown",
      "source": [
        "### get provenance"
      ],
      "metadata": {
        "id": "yk9yDMbvfycw"
      }
    },
    {
      "cell_type": "code",
      "source": [
        "# for index, provenance in enumerate(cleveland_chinese_art_df['provenance']):\n",
        "#    print(f\"Entry {index + 1}: {provenance}\")"
      ],
      "metadata": {
        "id": "23R0kDr5fX43"
      },
      "execution_count": null,
      "outputs": []
    },
    {
      "cell_type": "code",
      "source": [
        "provenance_list = cleveland_chinese_art_df['provenance'].tolist()"
      ],
      "metadata": {
        "id": "vrYr2VcOfZYN"
      },
      "execution_count": null,
      "outputs": []
    },
    {
      "cell_type": "code",
      "source": [
        "print(provenance_list[:10])"
      ],
      "metadata": {
        "colab": {
          "base_uri": "https://localhost:8080/"
        },
        "id": "-tXLsQ3Wg28l",
        "outputId": "80c55500-0bdd-4100-80b6-d03af587d004"
      },
      "execution_count": 8,
      "outputs": [
        {
          "output_type": "stream",
          "name": "stdout",
          "text": [
            "[[{'description': '(Marchant, London, UK, sold to Mr. and Mrs. Joseph P. Keithley)', 'citations': [], 'footnotes': [], 'date': '?–2011'}, {'description': 'Nancy F. and Joseph P. Keithley, Cleveland, OH, given to the Cleveland Museum of Art', 'citations': [], 'footnotes': [], 'date': '2011–2020'}, {'description': 'The Cleveland Museum of Art, Cleveland, OH', 'citations': [], 'footnotes': [], 'date': '2020–'}], [{'description': '(Marchant, London, UK, sold to Mr. and Mrs. Joseph P. Keithley)', 'citations': [], 'footnotes': None, 'date': '?by 1998–2011'}, {'description': 'Nancy F. and Joseph P. Keithley, Cleveland, OH, given to the Cleveland Museum of Art', 'citations': [], 'footnotes': None, 'date': '2011–2020'}, {'description': 'The Cleveland Museum of Art, Cleveland, OH', 'citations': [], 'footnotes': None, 'date': '2020–'}], [{'description': '(K.Y. Fine Art, Hong Kong, sold to Mr. and Mrs. Joseph P. Keithley)', 'citations': [], 'footnotes': None, 'date': '?–2010'}, {'description': 'Nancy F. and Joseph P. Keithley, Cleveland, OH, given to the Cleveland Museum of Art', 'citations': [], 'footnotes': None, 'date': '2010–2020'}, {'description': 'The Cleveland Museum of Art, Cleveland, OH', 'citations': [], 'footnotes': None, 'date': '2020–'}], [{'description': '(K.Y. Fine Art, Hong Kong, sold to Mr. and Mrs. Joseph P. Keithley)', 'citations': [], 'footnotes': None, 'date': '?–2010'}, {'description': 'Nancy F. and Joseph P. Keithley, Cleveland, OH, given to the Cleveland Museum of Art', 'citations': [], 'footnotes': None, 'date': '2010–2020'}, {'description': 'The Cleveland Museum of Art, Cleveland, OH', 'citations': [], 'footnotes': None, 'date': '2020–'}], [{'description': '(K.Y. Fine Art, Hong Kong, sold to Mr. and Mrs. Joseph P. Keithley)', 'citations': [], 'footnotes': [], 'date': '?–2010'}, {'description': 'Nancy F. and Joseph P. Keithley, Cleveland, OH, given to the Cleveland Museum of Art', 'citations': [], 'footnotes': [], 'date': '2010–2020'}, {'description': 'The Cleveland Museum of Art, Cleveland, OH', 'citations': [], 'footnotes': [], 'date': '2020–'}], [{'description': '(K.Y. Fine Art, Hong Kong, sold to Mr. and Mrs. Joseph P. Keithley)', 'citations': [], 'footnotes': None, 'date': '?–2010'}, {'description': 'Nancy F. and Joseph P. Keithley, Cleveland, OH, given to the Cleveland Museum of Art', 'citations': [], 'footnotes': None, 'date': '2010–2020'}, {'description': 'The Cleveland Museum of Art, Cleveland, OH', 'citations': [], 'footnotes': None, 'date': '2020–'}], [{'description': '(K.Y. Fine Art, Hong Kong, sold to Mr. and Mrs. Joseph P. Keithley)', 'citations': [], 'footnotes': None, 'date': '?–2010'}, {'description': 'Nancy F. and Joseph P. Keithley, Cleveland, OH, given to the Cleveland Museum of Art', 'citations': [], 'footnotes': None, 'date': '2010–2020'}, {'description': 'The Cleveland Museum of Art, Cleveland, OH', 'citations': [], 'footnotes': None, 'date': '2020–'}], [{'description': '(K.Y. Fine Art, Hong Kong, sold to Mr. and Mrs. Joseph P. Keithley)', 'citations': [], 'footnotes': None, 'date': '?–2010'}, {'description': 'Nancy F. and Joseph P. Keithley, Cleveland, OH, given to the Cleveland Museum of Art', 'citations': [], 'footnotes': None, 'date': '2010–2020'}, {'description': 'The Cleveland Museum of Art, Cleveland, OH', 'citations': [], 'footnotes': None, 'date': '2020–'}], [], [{'description': 'Family of Grace Chu, Hong Kong', 'citations': [], 'footnotes': None, 'date': '1970–2008'}, {'description': '(K.Y. Fine Art, Hong Kong, sold to Mr. and Mrs. Joseph P. Keithley)', 'citations': [], 'footnotes': None, 'date': '2008'}, {'description': 'Nancy F. and Joseph P. Keithley, Cleveland, OH, given to the Cleveland Museum of Art', 'citations': [], 'footnotes': None, 'date': '2008–2020'}, {'description': 'The Cleveland Museum of Art, Cleveland, OH', 'citations': [], 'footnotes': None, 'date': '2020–'}]]\n"
          ]
        }
      ]
    },
    {
      "cell_type": "markdown",
      "source": [
        "### Expand descriptions into separate columns"
      ],
      "metadata": {
        "id": "yYdN0itbiD_v"
      }
    },
    {
      "cell_type": "code",
      "source": [
        "\n",
        "def extract_description_before_comma(entry):\n",
        "    description = entry['description'].split(',')[0]\n",
        "    return description.strip('()')\n",
        "\n",
        "def process_row(provenance_list):\n",
        "    all_descriptions = []\n",
        "    for entry in provenance_list:\n",
        "        if 'description' in entry:\n",
        "            description = extract_description_before_comma(entry)\n",
        "            all_descriptions.append(description)\n",
        "    return all_descriptions\n",
        "\n",
        "cleveland_chinese_art_df['all_descriptions'] = cleveland_chinese_art_df['provenance'].apply(process_row)\n",
        "\n",
        "\n",
        "max_descriptions = cleveland_chinese_art_df['all_descriptions'].str.len().max()  # Find the max number of descriptions in any row\n",
        "for i in range(max_descriptions):\n",
        "    cleveland_chinese_art_df[f'description_{i+1}'] = cleveland_chinese_art_df['all_descriptions'].apply(\n",
        "        lambda x: x[i] if i < len(x) else None\n",
        "    )\n"
      ],
      "metadata": {
        "colab": {
          "base_uri": "https://localhost:8080/"
        },
        "id": "0A7wIetahl3Q",
        "outputId": "0a007a2d-288b-48e0-eed6-ece90cc7c788"
      },
      "execution_count": 10,
      "outputs": [
        {
          "output_type": "stream",
          "name": "stderr",
          "text": [
            "<ipython-input-10-1c9cd65b3a15>:13: SettingWithCopyWarning: \n",
            "A value is trying to be set on a copy of a slice from a DataFrame.\n",
            "Try using .loc[row_indexer,col_indexer] = value instead\n",
            "\n",
            "See the caveats in the documentation: https://pandas.pydata.org/pandas-docs/stable/user_guide/indexing.html#returning-a-view-versus-a-copy\n",
            "  cleveland_chinese_art_df['all_descriptions'] = cleveland_chinese_art_df['provenance'].apply(process_row)\n",
            "<ipython-input-10-1c9cd65b3a15>:18: SettingWithCopyWarning: \n",
            "A value is trying to be set on a copy of a slice from a DataFrame.\n",
            "Try using .loc[row_indexer,col_indexer] = value instead\n",
            "\n",
            "See the caveats in the documentation: https://pandas.pydata.org/pandas-docs/stable/user_guide/indexing.html#returning-a-view-versus-a-copy\n",
            "  cleveland_chinese_art_df[f'description_{i+1}'] = cleveland_chinese_art_df['all_descriptions'].apply(\n",
            "<ipython-input-10-1c9cd65b3a15>:18: SettingWithCopyWarning: \n",
            "A value is trying to be set on a copy of a slice from a DataFrame.\n",
            "Try using .loc[row_indexer,col_indexer] = value instead\n",
            "\n",
            "See the caveats in the documentation: https://pandas.pydata.org/pandas-docs/stable/user_guide/indexing.html#returning-a-view-versus-a-copy\n",
            "  cleveland_chinese_art_df[f'description_{i+1}'] = cleveland_chinese_art_df['all_descriptions'].apply(\n",
            "<ipython-input-10-1c9cd65b3a15>:18: SettingWithCopyWarning: \n",
            "A value is trying to be set on a copy of a slice from a DataFrame.\n",
            "Try using .loc[row_indexer,col_indexer] = value instead\n",
            "\n",
            "See the caveats in the documentation: https://pandas.pydata.org/pandas-docs/stable/user_guide/indexing.html#returning-a-view-versus-a-copy\n",
            "  cleveland_chinese_art_df[f'description_{i+1}'] = cleveland_chinese_art_df['all_descriptions'].apply(\n",
            "<ipython-input-10-1c9cd65b3a15>:18: SettingWithCopyWarning: \n",
            "A value is trying to be set on a copy of a slice from a DataFrame.\n",
            "Try using .loc[row_indexer,col_indexer] = value instead\n",
            "\n",
            "See the caveats in the documentation: https://pandas.pydata.org/pandas-docs/stable/user_guide/indexing.html#returning-a-view-versus-a-copy\n",
            "  cleveland_chinese_art_df[f'description_{i+1}'] = cleveland_chinese_art_df['all_descriptions'].apply(\n",
            "<ipython-input-10-1c9cd65b3a15>:18: SettingWithCopyWarning: \n",
            "A value is trying to be set on a copy of a slice from a DataFrame.\n",
            "Try using .loc[row_indexer,col_indexer] = value instead\n",
            "\n",
            "See the caveats in the documentation: https://pandas.pydata.org/pandas-docs/stable/user_guide/indexing.html#returning-a-view-versus-a-copy\n",
            "  cleveland_chinese_art_df[f'description_{i+1}'] = cleveland_chinese_art_df['all_descriptions'].apply(\n",
            "<ipython-input-10-1c9cd65b3a15>:18: SettingWithCopyWarning: \n",
            "A value is trying to be set on a copy of a slice from a DataFrame.\n",
            "Try using .loc[row_indexer,col_indexer] = value instead\n",
            "\n",
            "See the caveats in the documentation: https://pandas.pydata.org/pandas-docs/stable/user_guide/indexing.html#returning-a-view-versus-a-copy\n",
            "  cleveland_chinese_art_df[f'description_{i+1}'] = cleveland_chinese_art_df['all_descriptions'].apply(\n",
            "<ipython-input-10-1c9cd65b3a15>:18: SettingWithCopyWarning: \n",
            "A value is trying to be set on a copy of a slice from a DataFrame.\n",
            "Try using .loc[row_indexer,col_indexer] = value instead\n",
            "\n",
            "See the caveats in the documentation: https://pandas.pydata.org/pandas-docs/stable/user_guide/indexing.html#returning-a-view-versus-a-copy\n",
            "  cleveland_chinese_art_df[f'description_{i+1}'] = cleveland_chinese_art_df['all_descriptions'].apply(\n",
            "<ipython-input-10-1c9cd65b3a15>:18: SettingWithCopyWarning: \n",
            "A value is trying to be set on a copy of a slice from a DataFrame.\n",
            "Try using .loc[row_indexer,col_indexer] = value instead\n",
            "\n",
            "See the caveats in the documentation: https://pandas.pydata.org/pandas-docs/stable/user_guide/indexing.html#returning-a-view-versus-a-copy\n",
            "  cleveland_chinese_art_df[f'description_{i+1}'] = cleveland_chinese_art_df['all_descriptions'].apply(\n",
            "<ipython-input-10-1c9cd65b3a15>:18: SettingWithCopyWarning: \n",
            "A value is trying to be set on a copy of a slice from a DataFrame.\n",
            "Try using .loc[row_indexer,col_indexer] = value instead\n",
            "\n",
            "See the caveats in the documentation: https://pandas.pydata.org/pandas-docs/stable/user_guide/indexing.html#returning-a-view-versus-a-copy\n",
            "  cleveland_chinese_art_df[f'description_{i+1}'] = cleveland_chinese_art_df['all_descriptions'].apply(\n",
            "<ipython-input-10-1c9cd65b3a15>:18: SettingWithCopyWarning: \n",
            "A value is trying to be set on a copy of a slice from a DataFrame.\n",
            "Try using .loc[row_indexer,col_indexer] = value instead\n",
            "\n",
            "See the caveats in the documentation: https://pandas.pydata.org/pandas-docs/stable/user_guide/indexing.html#returning-a-view-versus-a-copy\n",
            "  cleveland_chinese_art_df[f'description_{i+1}'] = cleveland_chinese_art_df['all_descriptions'].apply(\n",
            "<ipython-input-10-1c9cd65b3a15>:18: SettingWithCopyWarning: \n",
            "A value is trying to be set on a copy of a slice from a DataFrame.\n",
            "Try using .loc[row_indexer,col_indexer] = value instead\n",
            "\n",
            "See the caveats in the documentation: https://pandas.pydata.org/pandas-docs/stable/user_guide/indexing.html#returning-a-view-versus-a-copy\n",
            "  cleveland_chinese_art_df[f'description_{i+1}'] = cleveland_chinese_art_df['all_descriptions'].apply(\n"
          ]
        }
      ]
    },
    {
      "cell_type": "code",
      "source": [
        "# keep all description columns\n",
        "columns_to_keep = [col for col in cleveland_chinese_art_df.columns if col.startswith('description_')]\n",
        "final_df = cleveland_chinese_art_df[columns_to_keep]"
      ],
      "metadata": {
        "id": "HUsJu_NUjVk2"
      },
      "execution_count": 11,
      "outputs": []
    },
    {
      "cell_type": "markdown",
      "source": [
        "### get pairs"
      ],
      "metadata": {
        "id": "EjSI_e8kiytB"
      }
    },
    {
      "cell_type": "code",
      "source": [
        "\n",
        "\n",
        "# create a list to hold all (source, target) pairs\n",
        "links = []\n",
        "\n",
        "# loop over each column and create pairs of (source, target)\n",
        "for i in range(1, 11):  # columns from description_1 to description_11\n",
        "    current_col = f'description_{i}'\n",
        "    next_col = f'description_{i+1}'\n",
        "    # Check if next column exists in the DataFrame\n",
        "    if next_col in final_df.columns:\n",
        "        for index, row in final_df.iterrows():\n",
        "            if pd.notna(row[current_col]) and pd.notna(row[next_col]):\n",
        "                links.append((row[current_col], row[next_col]))\n",
        "\n",
        "\n",
        "links_df = pd.DataFrame(links, columns=['source', 'target'])\n"
      ],
      "metadata": {
        "id": "0mxUi6nTjB2K"
      },
      "execution_count": 12,
      "outputs": []
    },
    {
      "cell_type": "code",
      "source": [
        "links_df.to_csv('link_df.csv', index=False, encoding='utf-8-sig')"
      ],
      "metadata": {
        "id": "37JId2bbjiYx"
      },
      "execution_count": 13,
      "outputs": []
    },
    {
      "cell_type": "markdown",
      "source": [
        "### correct typos, different forms of names manually"
      ],
      "metadata": {
        "id": "zGqrzpKvksdf"
      }
    },
    {
      "cell_type": "code",
      "source": [
        "from google.colab import drive\n",
        "drive.mount('/content/drive')\n"
      ],
      "metadata": {
        "colab": {
          "base_uri": "https://localhost:8080/"
        },
        "id": "dPkl9Nl6jio0",
        "outputId": "cd4ba021-ac87-4af1-9706-e8e506079d81"
      },
      "execution_count": 14,
      "outputs": [
        {
          "output_type": "stream",
          "name": "stdout",
          "text": [
            "Mounted at /content/drive\n"
          ]
        }
      ]
    },
    {
      "cell_type": "code",
      "source": [
        "links_df = pd.read_csv('/content/drive/MyDrive/ist671-XimengDeng/link_df.csv')"
      ],
      "metadata": {
        "id": "Td6ixXWEjk2j"
      },
      "execution_count": 15,
      "outputs": []
    },
    {
      "cell_type": "code",
      "source": [
        "import plotly.graph_objects as go\n",
        "\n",
        "\n",
        "\n",
        "# count the frequency of each pair\n",
        "link_counts = links_df.groupby(['source', 'target']).size().reset_index(name='value')\n",
        "\n",
        "# filter to keep only links with more than 12 connections\n",
        "filtered_link_counts = link_counts[link_counts['value'] > 12]\n",
        "\n",
        "# create lists of unique sources and targets from the filtered data\n",
        "all_nodes = pd.concat([filtered_link_counts['source'], filtered_link_counts['target']]).unique()\n",
        "node_dict = {node: idx for idx, node in enumerate(all_nodes)}\n",
        "\n",
        "# map the source and target to their respective indices\n",
        "filtered_link_counts['source'] = filtered_link_counts['source'].map(node_dict)\n",
        "filtered_link_counts['target'] = filtered_link_counts['target'].map(node_dict)\n",
        "\n",
        "# create the Sankey diagram\n",
        "fig = go.Figure(data=[go.Sankey(\n",
        "    node=dict(\n",
        "        pad=15,\n",
        "        thickness=20,\n",
        "        line=dict(color=\"black\", width=1),\n",
        "        label=[all_nodes[idx] for idx in range(len(all_nodes))],\n",
        "    ),\n",
        "    link=dict(\n",
        "        source=filtered_link_counts['source'],\n",
        "        target=filtered_link_counts['target'],\n",
        "        value=filtered_link_counts['value']\n",
        "    ))])\n",
        "\n",
        "fig.update_layout(title_text=\"Sankey Diagram of Descriptions with More Than 5 Links\", font_size=10)\n",
        "fig.show()\n"
      ],
      "metadata": {
        "colab": {
          "base_uri": "https://localhost:8080/",
          "height": 766
        },
        "id": "YMkLpYInjla6",
        "outputId": "cbabd25a-0518-4b0c-a551-db762964c3ad"
      },
      "execution_count": 16,
      "outputs": [
        {
          "output_type": "stream",
          "name": "stderr",
          "text": [
            "<ipython-input-16-6add5893c369>:16: SettingWithCopyWarning: \n",
            "A value is trying to be set on a copy of a slice from a DataFrame.\n",
            "Try using .loc[row_indexer,col_indexer] = value instead\n",
            "\n",
            "See the caveats in the documentation: https://pandas.pydata.org/pandas-docs/stable/user_guide/indexing.html#returning-a-view-versus-a-copy\n",
            "  filtered_link_counts['source'] = filtered_link_counts['source'].map(node_dict)\n",
            "<ipython-input-16-6add5893c369>:17: SettingWithCopyWarning: \n",
            "A value is trying to be set on a copy of a slice from a DataFrame.\n",
            "Try using .loc[row_indexer,col_indexer] = value instead\n",
            "\n",
            "See the caveats in the documentation: https://pandas.pydata.org/pandas-docs/stable/user_guide/indexing.html#returning-a-view-versus-a-copy\n",
            "  filtered_link_counts['target'] = filtered_link_counts['target'].map(node_dict)\n"
          ]
        },
        {
          "output_type": "display_data",
          "data": {
            "text/html": [
              "<html>\n",
              "<head><meta charset=\"utf-8\" /></head>\n",
              "<body>\n",
              "    <div>            <script src=\"https://cdnjs.cloudflare.com/ajax/libs/mathjax/2.7.5/MathJax.js?config=TeX-AMS-MML_SVG\"></script><script type=\"text/javascript\">if (window.MathJax && window.MathJax.Hub && window.MathJax.Hub.Config) {window.MathJax.Hub.Config({SVG: {font: \"STIX-Web\"}});}</script>                <script type=\"text/javascript\">window.PlotlyConfig = {MathJaxConfig: 'local'};</script>\n",
              "        <script charset=\"utf-8\" src=\"https://cdn.plot.ly/plotly-2.24.1.min.js\"></script>                <div id=\"af0e2cca-4fb1-4b92-8f22-cc57c0cf481f\" class=\"plotly-graph-div\" style=\"height:525px; width:100%;\"></div>            <script type=\"text/javascript\">                                    window.PLOTLYENV=window.PLOTLYENV || {};                                    if (document.getElementById(\"af0e2cca-4fb1-4b92-8f22-cc57c0cf481f\")) {                    Plotly.newPlot(                        \"af0e2cca-4fb1-4b92-8f22-cc57c0cf481f\",                        [{\"link\":{\"source\":[0,1,2,3,4,5,6,7,8,9,10,11,12,13,13,14,15,16,17,18,19,20,21,21,22,23,24,25,26,27,28,29,30,31,32,33,34,35,36,37,38,39,40,41,42,43,44,45,46],\"target\":[47,47,47,34,1,12,47,47,30,47,47,47,47,35,47,15,47,47,37,47,47,47,35,47,33,47,46,4,13,47,47,47,36,47,47,47,45,47,17,47,47,47,24,47,41,5,47,43,8],\"value\":[22,33,13,13,13,13,24,16,51,17,14,14,13,28,51,13,20,29,51,13,15,13,18,36,20,37,51,13,13,18,42,22,51,20,101,25,13,97,51,51,56,30,51,30,26,13,18,13,51]},\"node\":{\"label\":[\"C. C. Wang \\u738b\\u5b63\\u9077 [1907-2003]\",\"C.T. Loo \\u76e7\\u82b9\\u9f4b [1880\\u20131957]\",\"Christer von der Burg\",\"Daili Shanren \\u6234\\u7b20\\u5c71\\u4eba [active late 1700s]\",\"Ding Huikang \\u4e01\\u60e0\\u5eb7 [1868\\u002f1869\\u2013about 1918] and Gu Anmi \\u9867\\u5b89\\u5b93\",\"Ding Nianxian \\u4e01\\u5ff5\\u5148 [1906\\u20131969]\",\"Donald J. Wineman\",\"Donna [b. 1931] and James Reid [1926-2020]\",\"Dr. F. R. (Fredrik Robert) Martin [1868\\u20131933]\",\"Dr. J. C. [John Calvin] Ferguson  \\u798f\\u958b\\u68ee [1866-1945]\",\"Dr. Roger Y. K. Hsu [1927\\u20132022] and Mrs. Evangeline C. Hsu\",\"Elizabeth Beardsley Bingham Blossom [1881\\u20131970]\",\"Eskenazi Ltd.\",\"Frank Caro [1904\\u20131980]\",\"Fu Baoshi's family collection\",\"Han Mo Xuan Co.\",\"Henry Watson Kent [1866\\u20131948]\",\"Istv\\u00e1n \\u201cStephen\\\" Junkunc III [1904\\u20131978]\",\"J. C. Moreau-Gobard\",\"J. E. Eskenazi\",\"James Parmelee [1855-1931]\",\"John L. Severance [1863-1936]\",\"K.Y. Fine Art\",\"Kaikodo America Inc.\",\"Li Jiale \\u674e\\u5609\\u6a02 [jinshi of 1863]\",\"Ma Yueguan \\u99ac\\u66f0\\u742f [1688\\u20131755]\",\"Men-Chu Wang\",\"Mrs. A. Dean [Helen Wade Greene] Perry  [1911\\u20131996]\",\"Mrs. Francis F. [Elisabeth Severance Allen] Prentiss [1865\\u20131944]\",\"Mrs. John Lyon [Georgia Forman Elliott] Collyer [1898\\u20131994]\",\"Mrs. L. M. Morris [20th century]\",\"Mrs. R. Henry [Emery May Holden] Norweb [1895-1984]\",\"Mrs. Worcester R. (Cornelia Blakemore) Warner [1858\\u20131947]\",\"Nancy F. and Joseph P. Keithley\",\"Ni Yun \\u502a\\u8018 [d. 1864]\",\"Severance A. [1895-1985] and Greta [Marguerite Steckerl] Millikin [1903-1989]\",\"Sotheby's\",\"Stephen Junkunc IV [b. 1937]\",\"Thomas and Martha Carter\",\"Walter Hochstadter [1914\\u20132007]\",\"Wang Hui \\u738b\\u7fec [1632\\u20131717]\",\"Wango H. C. Weng \\u7fc1\\u842c\\u6208 [1918\\u20132020]\",\"Weng Tonghe \\u7fc1\\u540c\\u9fa2 [1830\\u20131904]\",\"Xu Xiaopu \\u5f90\\u5c0f\\u5703 [1887\\u20131961]\",\"Yamanaka and Company\",\"Yan Shiqing \\u984f\\u4e16\\u6e05 [1873\\u20131929]\",\"Zhu Hang \\u6731\\u6c86 [active 19th century]\",\"The Cleveland Museum of Art\"],\"line\":{\"color\":\"black\",\"width\":1},\"pad\":15,\"thickness\":20},\"type\":\"sankey\"}],                        {\"template\":{\"data\":{\"histogram2dcontour\":[{\"type\":\"histogram2dcontour\",\"colorbar\":{\"outlinewidth\":0,\"ticks\":\"\"},\"colorscale\":[[0.0,\"#0d0887\"],[0.1111111111111111,\"#46039f\"],[0.2222222222222222,\"#7201a8\"],[0.3333333333333333,\"#9c179e\"],[0.4444444444444444,\"#bd3786\"],[0.5555555555555556,\"#d8576b\"],[0.6666666666666666,\"#ed7953\"],[0.7777777777777778,\"#fb9f3a\"],[0.8888888888888888,\"#fdca26\"],[1.0,\"#f0f921\"]]}],\"choropleth\":[{\"type\":\"choropleth\",\"colorbar\":{\"outlinewidth\":0,\"ticks\":\"\"}}],\"histogram2d\":[{\"type\":\"histogram2d\",\"colorbar\":{\"outlinewidth\":0,\"ticks\":\"\"},\"colorscale\":[[0.0,\"#0d0887\"],[0.1111111111111111,\"#46039f\"],[0.2222222222222222,\"#7201a8\"],[0.3333333333333333,\"#9c179e\"],[0.4444444444444444,\"#bd3786\"],[0.5555555555555556,\"#d8576b\"],[0.6666666666666666,\"#ed7953\"],[0.7777777777777778,\"#fb9f3a\"],[0.8888888888888888,\"#fdca26\"],[1.0,\"#f0f921\"]]}],\"heatmap\":[{\"type\":\"heatmap\",\"colorbar\":{\"outlinewidth\":0,\"ticks\":\"\"},\"colorscale\":[[0.0,\"#0d0887\"],[0.1111111111111111,\"#46039f\"],[0.2222222222222222,\"#7201a8\"],[0.3333333333333333,\"#9c179e\"],[0.4444444444444444,\"#bd3786\"],[0.5555555555555556,\"#d8576b\"],[0.6666666666666666,\"#ed7953\"],[0.7777777777777778,\"#fb9f3a\"],[0.8888888888888888,\"#fdca26\"],[1.0,\"#f0f921\"]]}],\"heatmapgl\":[{\"type\":\"heatmapgl\",\"colorbar\":{\"outlinewidth\":0,\"ticks\":\"\"},\"colorscale\":[[0.0,\"#0d0887\"],[0.1111111111111111,\"#46039f\"],[0.2222222222222222,\"#7201a8\"],[0.3333333333333333,\"#9c179e\"],[0.4444444444444444,\"#bd3786\"],[0.5555555555555556,\"#d8576b\"],[0.6666666666666666,\"#ed7953\"],[0.7777777777777778,\"#fb9f3a\"],[0.8888888888888888,\"#fdca26\"],[1.0,\"#f0f921\"]]}],\"contourcarpet\":[{\"type\":\"contourcarpet\",\"colorbar\":{\"outlinewidth\":0,\"ticks\":\"\"}}],\"contour\":[{\"type\":\"contour\",\"colorbar\":{\"outlinewidth\":0,\"ticks\":\"\"},\"colorscale\":[[0.0,\"#0d0887\"],[0.1111111111111111,\"#46039f\"],[0.2222222222222222,\"#7201a8\"],[0.3333333333333333,\"#9c179e\"],[0.4444444444444444,\"#bd3786\"],[0.5555555555555556,\"#d8576b\"],[0.6666666666666666,\"#ed7953\"],[0.7777777777777778,\"#fb9f3a\"],[0.8888888888888888,\"#fdca26\"],[1.0,\"#f0f921\"]]}],\"surface\":[{\"type\":\"surface\",\"colorbar\":{\"outlinewidth\":0,\"ticks\":\"\"},\"colorscale\":[[0.0,\"#0d0887\"],[0.1111111111111111,\"#46039f\"],[0.2222222222222222,\"#7201a8\"],[0.3333333333333333,\"#9c179e\"],[0.4444444444444444,\"#bd3786\"],[0.5555555555555556,\"#d8576b\"],[0.6666666666666666,\"#ed7953\"],[0.7777777777777778,\"#fb9f3a\"],[0.8888888888888888,\"#fdca26\"],[1.0,\"#f0f921\"]]}],\"mesh3d\":[{\"type\":\"mesh3d\",\"colorbar\":{\"outlinewidth\":0,\"ticks\":\"\"}}],\"scatter\":[{\"fillpattern\":{\"fillmode\":\"overlay\",\"size\":10,\"solidity\":0.2},\"type\":\"scatter\"}],\"parcoords\":[{\"type\":\"parcoords\",\"line\":{\"colorbar\":{\"outlinewidth\":0,\"ticks\":\"\"}}}],\"scatterpolargl\":[{\"type\":\"scatterpolargl\",\"marker\":{\"colorbar\":{\"outlinewidth\":0,\"ticks\":\"\"}}}],\"bar\":[{\"error_x\":{\"color\":\"#2a3f5f\"},\"error_y\":{\"color\":\"#2a3f5f\"},\"marker\":{\"line\":{\"color\":\"#E5ECF6\",\"width\":0.5},\"pattern\":{\"fillmode\":\"overlay\",\"size\":10,\"solidity\":0.2}},\"type\":\"bar\"}],\"scattergeo\":[{\"type\":\"scattergeo\",\"marker\":{\"colorbar\":{\"outlinewidth\":0,\"ticks\":\"\"}}}],\"scatterpolar\":[{\"type\":\"scatterpolar\",\"marker\":{\"colorbar\":{\"outlinewidth\":0,\"ticks\":\"\"}}}],\"histogram\":[{\"marker\":{\"pattern\":{\"fillmode\":\"overlay\",\"size\":10,\"solidity\":0.2}},\"type\":\"histogram\"}],\"scattergl\":[{\"type\":\"scattergl\",\"marker\":{\"colorbar\":{\"outlinewidth\":0,\"ticks\":\"\"}}}],\"scatter3d\":[{\"type\":\"scatter3d\",\"line\":{\"colorbar\":{\"outlinewidth\":0,\"ticks\":\"\"}},\"marker\":{\"colorbar\":{\"outlinewidth\":0,\"ticks\":\"\"}}}],\"scattermapbox\":[{\"type\":\"scattermapbox\",\"marker\":{\"colorbar\":{\"outlinewidth\":0,\"ticks\":\"\"}}}],\"scatterternary\":[{\"type\":\"scatterternary\",\"marker\":{\"colorbar\":{\"outlinewidth\":0,\"ticks\":\"\"}}}],\"scattercarpet\":[{\"type\":\"scattercarpet\",\"marker\":{\"colorbar\":{\"outlinewidth\":0,\"ticks\":\"\"}}}],\"carpet\":[{\"aaxis\":{\"endlinecolor\":\"#2a3f5f\",\"gridcolor\":\"white\",\"linecolor\":\"white\",\"minorgridcolor\":\"white\",\"startlinecolor\":\"#2a3f5f\"},\"baxis\":{\"endlinecolor\":\"#2a3f5f\",\"gridcolor\":\"white\",\"linecolor\":\"white\",\"minorgridcolor\":\"white\",\"startlinecolor\":\"#2a3f5f\"},\"type\":\"carpet\"}],\"table\":[{\"cells\":{\"fill\":{\"color\":\"#EBF0F8\"},\"line\":{\"color\":\"white\"}},\"header\":{\"fill\":{\"color\":\"#C8D4E3\"},\"line\":{\"color\":\"white\"}},\"type\":\"table\"}],\"barpolar\":[{\"marker\":{\"line\":{\"color\":\"#E5ECF6\",\"width\":0.5},\"pattern\":{\"fillmode\":\"overlay\",\"size\":10,\"solidity\":0.2}},\"type\":\"barpolar\"}],\"pie\":[{\"automargin\":true,\"type\":\"pie\"}]},\"layout\":{\"autotypenumbers\":\"strict\",\"colorway\":[\"#636efa\",\"#EF553B\",\"#00cc96\",\"#ab63fa\",\"#FFA15A\",\"#19d3f3\",\"#FF6692\",\"#B6E880\",\"#FF97FF\",\"#FECB52\"],\"font\":{\"color\":\"#2a3f5f\"},\"hovermode\":\"closest\",\"hoverlabel\":{\"align\":\"left\"},\"paper_bgcolor\":\"white\",\"plot_bgcolor\":\"#E5ECF6\",\"polar\":{\"bgcolor\":\"#E5ECF6\",\"angularaxis\":{\"gridcolor\":\"white\",\"linecolor\":\"white\",\"ticks\":\"\"},\"radialaxis\":{\"gridcolor\":\"white\",\"linecolor\":\"white\",\"ticks\":\"\"}},\"ternary\":{\"bgcolor\":\"#E5ECF6\",\"aaxis\":{\"gridcolor\":\"white\",\"linecolor\":\"white\",\"ticks\":\"\"},\"baxis\":{\"gridcolor\":\"white\",\"linecolor\":\"white\",\"ticks\":\"\"},\"caxis\":{\"gridcolor\":\"white\",\"linecolor\":\"white\",\"ticks\":\"\"}},\"coloraxis\":{\"colorbar\":{\"outlinewidth\":0,\"ticks\":\"\"}},\"colorscale\":{\"sequential\":[[0.0,\"#0d0887\"],[0.1111111111111111,\"#46039f\"],[0.2222222222222222,\"#7201a8\"],[0.3333333333333333,\"#9c179e\"],[0.4444444444444444,\"#bd3786\"],[0.5555555555555556,\"#d8576b\"],[0.6666666666666666,\"#ed7953\"],[0.7777777777777778,\"#fb9f3a\"],[0.8888888888888888,\"#fdca26\"],[1.0,\"#f0f921\"]],\"sequentialminus\":[[0.0,\"#0d0887\"],[0.1111111111111111,\"#46039f\"],[0.2222222222222222,\"#7201a8\"],[0.3333333333333333,\"#9c179e\"],[0.4444444444444444,\"#bd3786\"],[0.5555555555555556,\"#d8576b\"],[0.6666666666666666,\"#ed7953\"],[0.7777777777777778,\"#fb9f3a\"],[0.8888888888888888,\"#fdca26\"],[1.0,\"#f0f921\"]],\"diverging\":[[0,\"#8e0152\"],[0.1,\"#c51b7d\"],[0.2,\"#de77ae\"],[0.3,\"#f1b6da\"],[0.4,\"#fde0ef\"],[0.5,\"#f7f7f7\"],[0.6,\"#e6f5d0\"],[0.7,\"#b8e186\"],[0.8,\"#7fbc41\"],[0.9,\"#4d9221\"],[1,\"#276419\"]]},\"xaxis\":{\"gridcolor\":\"white\",\"linecolor\":\"white\",\"ticks\":\"\",\"title\":{\"standoff\":15},\"zerolinecolor\":\"white\",\"automargin\":true,\"zerolinewidth\":2},\"yaxis\":{\"gridcolor\":\"white\",\"linecolor\":\"white\",\"ticks\":\"\",\"title\":{\"standoff\":15},\"zerolinecolor\":\"white\",\"automargin\":true,\"zerolinewidth\":2},\"scene\":{\"xaxis\":{\"backgroundcolor\":\"#E5ECF6\",\"gridcolor\":\"white\",\"linecolor\":\"white\",\"showbackground\":true,\"ticks\":\"\",\"zerolinecolor\":\"white\",\"gridwidth\":2},\"yaxis\":{\"backgroundcolor\":\"#E5ECF6\",\"gridcolor\":\"white\",\"linecolor\":\"white\",\"showbackground\":true,\"ticks\":\"\",\"zerolinecolor\":\"white\",\"gridwidth\":2},\"zaxis\":{\"backgroundcolor\":\"#E5ECF6\",\"gridcolor\":\"white\",\"linecolor\":\"white\",\"showbackground\":true,\"ticks\":\"\",\"zerolinecolor\":\"white\",\"gridwidth\":2}},\"shapedefaults\":{\"line\":{\"color\":\"#2a3f5f\"}},\"annotationdefaults\":{\"arrowcolor\":\"#2a3f5f\",\"arrowhead\":0,\"arrowwidth\":1},\"geo\":{\"bgcolor\":\"white\",\"landcolor\":\"#E5ECF6\",\"subunitcolor\":\"white\",\"showland\":true,\"showlakes\":true,\"lakecolor\":\"white\"},\"title\":{\"x\":0.05},\"mapbox\":{\"style\":\"light\"}}},\"title\":{\"text\":\"Sankey Diagram of Descriptions with More Than 5 Links\"},\"font\":{\"size\":10}},                        {\"responsive\": true}                    ).then(function(){\n",
              "                            \n",
              "var gd = document.getElementById('af0e2cca-4fb1-4b92-8f22-cc57c0cf481f');\n",
              "var x = new MutationObserver(function (mutations, observer) {{\n",
              "        var display = window.getComputedStyle(gd).display;\n",
              "        if (!display || display === 'none') {{\n",
              "            console.log([gd, 'removed!']);\n",
              "            Plotly.purge(gd);\n",
              "            observer.disconnect();\n",
              "        }}\n",
              "}});\n",
              "\n",
              "// Listen for the removal of the full notebook cells\n",
              "var notebookContainer = gd.closest('#notebook-container');\n",
              "if (notebookContainer) {{\n",
              "    x.observe(notebookContainer, {childList: true});\n",
              "}}\n",
              "\n",
              "// Listen for the clearing of the current output cell\n",
              "var outputEl = gd.closest('.output');\n",
              "if (outputEl) {{\n",
              "    x.observe(outputEl, {childList: true});\n",
              "}}\n",
              "\n",
              "                        })                };                            </script>        </div>\n",
              "</body>\n",
              "</html>"
            ]
          },
          "metadata": {}
        }
      ]
    },
    {
      "cell_type": "code",
      "source": [
        "fig.write_html(\"sankey_diagram.html\")\n"
      ],
      "metadata": {
        "id": "Zq0hRVqBjpIL"
      },
      "execution_count": 17,
      "outputs": []
    },
    {
      "cell_type": "markdown",
      "source": [
        "### count"
      ],
      "metadata": {
        "id": "KJJUwiIGjtKo"
      }
    },
    {
      "cell_type": "code",
      "source": [
        "non_na_counts = final_df.notna().sum(axis=1)\n",
        "non_na_counts.value_counts().sort_index()"
      ],
      "metadata": {
        "colab": {
          "base_uri": "https://localhost:8080/"
        },
        "id": "cskHjj3BjuCq",
        "outputId": "9d925eff-6ca7-459e-e0f5-4efc67ec793d"
      },
      "execution_count": 18,
      "outputs": [
        {
          "output_type": "execute_result",
          "data": {
            "text/plain": [
              "0     714\n",
              "1     251\n",
              "2     920\n",
              "3     296\n",
              "4      98\n",
              "5      72\n",
              "6      37\n",
              "7      23\n",
              "8       2\n",
              "9      59\n",
              "10      1\n",
              "11      1\n",
              "Name: count, dtype: int64"
            ]
          },
          "metadata": {},
          "execution_count": 18
        }
      ]
    }
  ]
}